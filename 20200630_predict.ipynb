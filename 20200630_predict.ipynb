{
 "cells": [
  {
   "cell_type": "code",
   "execution_count": 1,
   "metadata": {},
   "outputs": [
    {
     "name": "stderr",
     "output_type": "stream",
     "text": [
      "Using TensorFlow backend.\n"
     ]
    }
   ],
   "source": [
    "import LoadBatches\n",
    "from keras.models import load_model\n",
    "from Models import FCN32, FCN8, SegNet, UNet\n",
    "import glob\n",
    "import cv2\n",
    "import numpy as np\n",
    "import random"
   ]
  },
  {
   "cell_type": "code",
   "execution_count": 2,
   "metadata": {},
   "outputs": [],
   "source": [
    "n_classes = 11\n",
    "\n",
    "key = \"unet\"\n",
    "\n",
    "method = {\n",
    "    \"fcn32\": FCN32.FCN32,\n",
    "    \"fcn8\": FCN8.FCN8,\n",
    "    \"segnet\": SegNet.SegNet,\n",
    "    'unet': UNet.UNet}\n",
    "\n",
    "images_path = \"data/dataset1/images_prepped_test/\"\n",
    "segs_path = \"data/dataset1/annotations_prepped_test/\"\n",
    "\n",
    "input_height = 320\n",
    "input_width = 320\n",
    "\n",
    "colors = [\n",
    "    (random.randint(\n",
    "        0, 255), random.randint(\n",
    "            0, 255), random.randint(\n",
    "                0, 255)) for _ in range(n_classes)]\n"
   ]
  },
  {
   "cell_type": "code",
   "execution_count": 3,
   "metadata": {},
   "outputs": [],
   "source": [
    "##########################################################################\n",
    "\n",
    "\n",
    "def label2color(colors, n_classes, seg):\n",
    "    seg_color = np.zeros((seg.shape[0], seg.shape[1], 3))\n",
    "    for c in range(n_classes):\n",
    "        seg_color[:, :, 0] += ((seg == c) *\n",
    "                               (colors[c][0])).astype('uint8')\n",
    "        seg_color[:, :, 1] += ((seg == c) *\n",
    "                               (colors[c][1])).astype('uint8')\n",
    "        seg_color[:, :, 2] += ((seg == c) *\n",
    "                               (colors[c][2])).astype('uint8')\n",
    "    seg_color = seg_color.astype(np.uint8)\n",
    "    return seg_color\n",
    "\n",
    "\n",
    "def getcenteroffset(shape, input_height, input_width):\n",
    "    short_edge = min(shape[:2])\n",
    "    xx = int((shape[0] - short_edge) / 2)\n",
    "    yy = int((shape[1] - short_edge) / 2)\n",
    "    return xx, yy\n",
    "\n",
    "\n",
    "images = sorted(\n",
    "    glob.glob(\n",
    "        images_path +\n",
    "        \"*.jpg\") +\n",
    "    glob.glob(\n",
    "        images_path +\n",
    "        \"*.png\") +\n",
    "    glob.glob(\n",
    "        images_path +\n",
    "        \"*.jpeg\"))\n",
    "segmentations = sorted(glob.glob(segs_path + \"*.jpg\") +\n",
    "                       glob.glob(segs_path + \"*.png\") + glob.glob(segs_path + \"*.jpeg\"))\n",
    "\n",
    "\n"
   ]
  },
  {
   "cell_type": "code",
   "execution_count": 4,
   "metadata": {},
   "outputs": [
    {
     "name": "stdout",
     "output_type": "stream",
     "text": [
      "WARNING:tensorflow:From C:\\Users\\duchu\\Anaconda3\\lib\\site-packages\\keras\\backend\\tensorflow_backend.py:66: The name tf.get_default_graph is deprecated. Please use tf.compat.v1.get_default_graph instead.\n",
      "\n",
      "WARNING:tensorflow:From C:\\Users\\duchu\\Anaconda3\\lib\\site-packages\\keras\\backend\\tensorflow_backend.py:541: The name tf.placeholder is deprecated. Please use tf.compat.v1.placeholder instead.\n",
      "\n",
      "WARNING:tensorflow:From C:\\Users\\duchu\\Anaconda3\\lib\\site-packages\\keras\\backend\\tensorflow_backend.py:4432: The name tf.random_uniform is deprecated. Please use tf.random.uniform instead.\n",
      "\n",
      "WARNING:tensorflow:From C:\\Users\\duchu\\Anaconda3\\lib\\site-packages\\keras\\backend\\tensorflow_backend.py:4267: The name tf.nn.max_pool is deprecated. Please use tf.nn.max_pool2d instead.\n",
      "\n",
      "WARNING:tensorflow:From C:\\Users\\duchu\\Anaconda3\\lib\\site-packages\\keras\\backend\\tensorflow_backend.py:190: The name tf.get_default_session is deprecated. Please use tf.compat.v1.get_default_session instead.\n",
      "\n",
      "WARNING:tensorflow:From C:\\Users\\duchu\\Anaconda3\\lib\\site-packages\\keras\\backend\\tensorflow_backend.py:197: The name tf.ConfigProto is deprecated. Please use tf.compat.v1.ConfigProto instead.\n",
      "\n",
      "WARNING:tensorflow:From C:\\Users\\duchu\\Anaconda3\\lib\\site-packages\\keras\\backend\\tensorflow_backend.py:203: The name tf.Session is deprecated. Please use tf.compat.v1.Session instead.\n",
      "\n",
      "WARNING:tensorflow:From C:\\Users\\duchu\\Anaconda3\\lib\\site-packages\\keras\\backend\\tensorflow_backend.py:207: The name tf.global_variables is deprecated. Please use tf.compat.v1.global_variables instead.\n",
      "\n",
      "WARNING:tensorflow:From C:\\Users\\duchu\\Anaconda3\\lib\\site-packages\\keras\\backend\\tensorflow_backend.py:216: The name tf.is_variable_initialized is deprecated. Please use tf.compat.v1.is_variable_initialized instead.\n",
      "\n",
      "WARNING:tensorflow:From C:\\Users\\duchu\\Anaconda3\\lib\\site-packages\\keras\\backend\\tensorflow_backend.py:223: The name tf.variables_initializer is deprecated. Please use tf.compat.v1.variables_initializer instead.\n",
      "\n",
      "WARNING:tensorflow:From C:\\Users\\duchu\\Anaconda3\\lib\\site-packages\\keras\\backend\\tensorflow_backend.py:2239: The name tf.image.resize_nearest_neighbor is deprecated. Please use tf.compat.v1.image.resize_nearest_neighbor instead.\n",
      "\n",
      "WARNING:tensorflow:From C:\\Users\\duchu\\Anaconda3\\lib\\site-packages\\keras\\backend\\tensorflow_backend.py:2041: The name tf.nn.fused_batch_norm is deprecated. Please use tf.compat.v1.nn.fused_batch_norm instead.\n",
      "\n",
      "WARNING:tensorflow:From C:\\Users\\duchu\\Anaconda3\\lib\\site-packages\\keras\\backend\\tensorflow_backend.py:148: The name tf.placeholder_with_default is deprecated. Please use tf.compat.v1.placeholder_with_default instead.\n",
      "\n",
      "1/101 data/dataset1/images_prepped_test\\0016E5_07959.png\n"
     ]
    },
    {
     "ename": "KeyboardInterrupt",
     "evalue": "",
     "output_type": "error",
     "traceback": [
      "\u001b[1;31m---------------------------------------------------------------------------\u001b[0m",
      "\u001b[1;31mKeyboardInterrupt\u001b[0m                         Traceback (most recent call last)",
      "\u001b[1;32m<ipython-input-4-db8c8af826f4>\u001b[0m in \u001b[0;36m<module>\u001b[1;34m\u001b[0m\n\u001b[0;32m     23\u001b[0m     \u001b[0mcv2\u001b[0m\u001b[1;33m.\u001b[0m\u001b[0mimshow\u001b[0m\u001b[1;33m(\u001b[0m\u001b[1;34m\"seg\"\u001b[0m\u001b[1;33m,\u001b[0m \u001b[0mlabel2color\u001b[0m\u001b[1;33m(\u001b[0m\u001b[0mcolors\u001b[0m\u001b[1;33m,\u001b[0m \u001b[0mn_classes\u001b[0m\u001b[1;33m,\u001b[0m \u001b[0mseg\u001b[0m\u001b[1;33m)\u001b[0m\u001b[1;33m)\u001b[0m\u001b[1;33m\u001b[0m\u001b[1;33m\u001b[0m\u001b[0m\n\u001b[0;32m     24\u001b[0m \u001b[1;33m\u001b[0m\u001b[0m\n\u001b[1;32m---> 25\u001b[1;33m     \u001b[0mcv2\u001b[0m\u001b[1;33m.\u001b[0m\u001b[0mwaitKey\u001b[0m\u001b[1;33m(\u001b[0m\u001b[1;33m)\u001b[0m\u001b[1;33m\u001b[0m\u001b[1;33m\u001b[0m\u001b[0m\n\u001b[0m",
      "\u001b[1;31mKeyboardInterrupt\u001b[0m: "
     ]
    }
   ],
   "source": [
    "# m = load_model(\"output/%s_model.h5\" % key)\n",
    "m = method[key](11, 320, 320)  # 有自定义层时，不能直接加载模型\n",
    "m.load_weights(\"output/%s_model.h5\" % key)\n",
    "\n",
    "for i, (imgName, segName) in enumerate(zip(images, segmentations)):\n",
    "\n",
    "    print(\"%d/%d %s\" % (i + 1, len(images), imgName))\n",
    "\n",
    "    im = cv2.imread(imgName, 1)\n",
    "    # im=cv2.resize(im,(input_height,input_width))\n",
    "    xx, yy = getcenteroffset(im.shape, input_height, input_width)\n",
    "    im = im[xx:xx + input_height, yy:yy + input_width, :]\n",
    "\n",
    "    seg = cv2.imread(segName, 0)\n",
    "    # seg= cv2.resize(seg,interpolation=cv2.INTER_NEAREST)\n",
    "    seg = seg[xx:xx + input_height, yy:yy + input_width]\n",
    "\n",
    "    pr = m.predict(np.expand_dims(LoadBatches.getImageArr(im), 0))[0]\n",
    "    pr = pr.reshape((input_height, input_width, n_classes)).argmax(axis=2)\n",
    "\n",
    "    cv2.imshow(\"img\", im)\n",
    "    cv2.imshow(\"seg_predict_res\", label2color(colors, n_classes, pr))\n",
    "    cv2.imshow(\"seg\", label2color(colors, n_classes, seg))\n",
    "\n",
    "    cv2.waitKey()\n"
   ]
  },
  {
   "cell_type": "code",
   "execution_count": null,
   "metadata": {},
   "outputs": [],
   "source": []
  }
 ],
 "metadata": {
  "kernelspec": {
   "display_name": "Python 3",
   "language": "python",
   "name": "python3"
  },
  "language_info": {
   "codemirror_mode": {
    "name": "ipython",
    "version": 3
   },
   "file_extension": ".py",
   "mimetype": "text/x-python",
   "name": "python",
   "nbconvert_exporter": "python",
   "pygments_lexer": "ipython3",
   "version": "3.7.4"
  }
 },
 "nbformat": 4,
 "nbformat_minor": 2
}
